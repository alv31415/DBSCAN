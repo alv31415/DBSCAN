{
 "cells": [
  {
   "cell_type": "code",
   "execution_count": 23,
   "metadata": {},
   "outputs": [],
   "source": [
    "%run Classes.ipynb"
   ]
  },
  {
   "cell_type": "code",
   "execution_count": 11,
   "metadata": {},
   "outputs": [
    {
     "name": "stdout",
     "output_type": "stream",
     "text": [
      "1 at (0, 0)\n",
      "2 at (1, 0)\n",
      "3 at (1, 1)\n",
      "4 at (2, 2)\n",
      "5 at (3, 1)\n",
      "6 at (3, 0)\n",
      "7 at (0, 1)\n",
      "8 at (3, 2)\n",
      "9 at (6, 3)\n"
     ]
    }
   ],
   "source": [
    "point1 = Point(0,0,1)\n",
    "point2 = Point(1,0,2)\n",
    "point3 = Point(1,1,3)\n",
    "point4 = Point(2,2,4)\n",
    "point5 = Point(3,1,5)\n",
    "point6 = Point(3,0,6)\n",
    "point7 = Point(0,1,7)\n",
    "point8 = Point(3,2,8)\n",
    "point9 = Point(6,3,9)\n",
    "\n",
    "ex_points = [point1, point2, point3, point4, point5, point6, point7, point8, point9]"
   ]
  },
  {
   "cell_type": "code",
   "execution_count": 24,
   "metadata": {},
   "outputs": [
    {
     "name": "stdout",
     "output_type": "stream",
     "text": [
      "Cluster 1 => [1, 2, 7]\n",
      "Cluster 2 => [1, 2, 3]\n",
      "Cluster 3 => [2, 3, 7]\n",
      "Cluster 5 => [5, 6, 8]\n",
      "Cluster 7 => [1, 3, 7]\n",
      "Cluster 8 => [4, 5, 8]\n"
     ]
    }
   ],
   "source": [
    "dbscan = DBSCAN(epsilon = 1, min_points = 3, points = ex_points)\n",
    "dbscan.print_clusters()"
   ]
  }
 ],
 "metadata": {
  "kernelspec": {
   "display_name": "Python 3",
   "language": "python",
   "name": "python3"
  },
  "language_info": {
   "codemirror_mode": {
    "name": "ipython",
    "version": 3
   },
   "file_extension": ".py",
   "mimetype": "text/x-python",
   "name": "python",
   "nbconvert_exporter": "python",
   "pygments_lexer": "ipython3",
   "version": "3.7.0"
  }
 },
 "nbformat": 4,
 "nbformat_minor": 4
}
