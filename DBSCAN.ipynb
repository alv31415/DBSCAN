{
 "cells": [
  {
   "cell_type": "code",
   "execution_count": 7,
   "metadata": {},
   "outputs": [],
   "source": [
    "from sklearn import datasets\n",
    "import matplotlib\n",
    "import matplotlib.pyplot as plt\n",
    "import numpy"
   ]
  },
  {
   "cell_type": "code",
   "execution_count": 5,
   "metadata": {},
   "outputs": [],
   "source": [
    "%run Classes.ipynb"
   ]
  },
  {
   "cell_type": "code",
   "execution_count": 3,
   "metadata": {},
   "outputs": [],
   "source": [
    "point1 = Point(0,0,1)\n",
    "point2 = Point(1,0,2)\n",
    "point3 = Point(1,1,3)\n",
    "point4 = Point(2,2,4)\n",
    "point5 = Point(3,1,5)\n",
    "point6 = Point(3,0,6)\n",
    "point7 = Point(0,1,7)\n",
    "point8 = Point(3,2,8)\n",
    "point9 = Point(6,3,9)\n",
    "point10 = Point(0,2,10)\n",
    "point11 = Point(0,3,11)\n",
    "point12 = Point(2,1,12)\n",
    "point13 = Point(6,6,13)\n",
    "\n",
    "ex_points = [point1, point2, point3, point4, point5, point6, point7, point8, point9, point10, point11, point12, point13]"
   ]
  },
  {
   "cell_type": "code",
   "execution_count": 8,
   "metadata": {
    "scrolled": true
   },
   "outputs": [
    {
     "name": "stdout",
     "output_type": "stream",
     "text": [
      "Cluster Outliers => [9, 13]\n",
      "Cluster 1 => [1, 7, 10, 11, 3, 12, 5, 8, 4, 6, 2]\n"
     ]
    }
   ],
   "source": [
    "dbscan = DBSCAN(epsilon = 1, min_points = 3, points = ex_points)\n",
    "dbscan.print_clusters()"
   ]
  },
  {
   "cell_type": "code",
   "execution_count": 9,
   "metadata": {},
   "outputs": [
    {
     "data": {
      "text/plain": [
       "numpy.ndarray"
      ]
     },
     "execution_count": 9,
     "metadata": {},
     "output_type": "execute_result"
    }
   ],
   "source": [
    "n_samples = 1500\n",
    "noisy_circles = datasets.make_circles(n_samples=n_samples, factor=.5,\n",
    "                                      noise=.05)\n",
    "\n",
    "type(noisy_circles[0])"
   ]
  },
  {
   "cell_type": "code",
   "execution_count": 15,
   "metadata": {
    "scrolled": false
   },
   "outputs": [],
   "source": [
    "dbscan_circles = DBSCAN(epsilon=0.2, min_points=5, points=noisy_circles[0])\n",
    "clusters = dbscan_circles.generate_clusters()\n",
    "cluster_names = clusters.keys()\n",
    "\n"
   ]
  },
  {
   "cell_type": "code",
   "execution_count": 19,
   "metadata": {},
   "outputs": [
    {
     "name": "stdout",
     "output_type": "stream",
     "text": [
      "dict_keys(['Outliers', 0, 2])\n"
     ]
    },
    {
     "data": {
      "image/png": "[encoded data removed]",
      "text/plain": [
       "<Figure size 432x288 with 1 Axes>"
      ]
     },
     "metadata": {
      "needs_background": "light"
     },
     "output_type": "display_data"
    }
   ],
   "source": [
    "print(cluster_names)\n",
    "\n",
    "fig, ax = plt.subplots()\n",
    "for point in dbscan_circles.points:\n",
    "    if point.cluster == 0:\n",
    "        ax.scatter(point.x, point.y, c = \"orange\")\n",
    "    elif point.cluster is \"Outlier\":\n",
    "        ax.scatter(point.x, point.y, c = \"r\")\n",
    "    else:\n",
    "        ax.scatter(point.x, point.y, c = \"b\")\n",
    "\n",
    "plt.show()"
   ]
  }
 ],
 "metadata": {
  "kernelspec": {
   "display_name": "Python 3",
   "language": "python",
   "name": "python3"
  },
  "language_info": {
   "codemirror_mode": {
    "name": "ipython",
    "version": 3
   },
   "file_extension": ".py",
   "mimetype": "text/x-python",
   "name": "python",
   "nbconvert_exporter": "python",
   "pygments_lexer": "ipython3",
   "version": "3.7.0"
  }
 },
 "nbformat": 4,
 "nbformat_minor": 4
}
