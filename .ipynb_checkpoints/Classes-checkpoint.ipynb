{
 "cells": [
  {
   "cell_type": "code",
   "execution_count": null,
   "metadata": {},
   "outputs": [],
   "source": [
    "import math"
   ]
  },
  {
   "cell_type": "code",
   "execution_count": null,
   "metadata": {},
   "outputs": [],
   "source": [
    "class Point:\n",
    "    def __init__(self, x, y, point_id, cluster = None):\n",
    "        self.x = x\n",
    "        self.y = y\n",
    "        self.point_id = point_id\n",
    "        self.cluster = cluster\n",
    "        \n",
    "    def get_dist(self, point):\n",
    "        return math.sqrt((self.x - point.x)**2 + (self.y - point.y)**2)\n",
    "    \n",
    "    def assign_cluster(self,cluster):\n",
    "        self.cluster = cluster\n",
    "        \n",
    "    def to_string(self):\n",
    "        return f\"{self.point_id} at {(self.x, self.y)}\""
   ]
  },
  {
   "cell_type": "code",
   "execution_count": null,
   "metadata": {},
   "outputs": [],
   "source": [
    "class Cluster:\n",
    "    def __init__(self, cluster_id, points = []):\n",
    "        self.cluster_id = cluster_id\n",
    "        for point in points:\n",
    "            point.cluster = self\n",
    "        self.points = points\n",
    "        \n",
    "    def add_point(self, point):\n",
    "        point.cluster = self\n",
    "        self.elements.append(point)\n",
    "        \n",
    "    def add_points(self, points):\n",
    "        for point in points:\n",
    "            point.cluster = self\n",
    "        self.elements.extend(points)"
   ]
  },
  {
   "cell_type": "code",
   "execution_count": null,
   "metadata": {},
   "outputs": [],
   "source": [
    "class DBSCAN:\n",
    "    def __init__(self, epsilon, min_points, points):\n",
    "        self.epsilon = epsilon\n",
    "        self.min_points = min_points\n",
    "        self.points = points\n",
    "        \n",
    "    def get_epsilon_close(self):\n",
    "        epsilon_close = {}\n",
    "        for point in self.points:\n",
    "            epsilon_close[point.point_id] = []\n",
    "            for point_ in self.points:\n",
    "                if point.get_dist(point_) <= self.epsilon:\n",
    "                    epsilon_close[point.point_id].append(point_)\n",
    "                    \n",
    "        return epsilon_close\n",
    "    \n",
    "    def get_epsilon_close_string(self):\n",
    "        epsilon_close = self.get_epsilon_close()\n",
    "        for point in self.points:\n",
    "            print(f\"{point.to_string()} => {[p.to_string() for p in epsilon_close[point.point_id]]}\")\n",
    "            \n",
    "    def generate_clusters(self):\n",
    "        clusters = {}\n",
    "        epsilon_close = self.get_epsilon_close()\n",
    "        for point in self.points:\n",
    "            if len(epsilon_close[point.point_id]) >= self.min_points:\n",
    "                for assigned_point in epsilon_close[point.point_id]:\n",
    "                    assigned_point.cluster = point.point_id\n",
    "                clusters[point.point_id] = epsilon_close[point.point_id]\n",
    "                \n",
    "        return clusters\n",
    "    \n",
    "    def print_clusters(self):\n",
    "        clusters = self.generate_clusters()\n",
    "        for cluster, points in clusters.items():\n",
    "            print(f\"Cluster {cluster} => {[point.point_id for point in points]}\")"
   ]
  }
 ],
 "metadata": {
  "kernelspec": {
   "display_name": "Python 3",
   "language": "python",
   "name": "python3"
  },
  "language_info": {
   "codemirror_mode": {
    "name": "ipython",
    "version": 3
   },
   "file_extension": ".py",
   "mimetype": "text/x-python",
   "name": "python",
   "nbconvert_exporter": "python",
   "pygments_lexer": "ipython3",
   "version": "3.7.0"
  }
 },
 "nbformat": 4,
 "nbformat_minor": 4
}
